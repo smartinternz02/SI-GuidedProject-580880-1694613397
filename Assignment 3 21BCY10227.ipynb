{
 "cells": [
  {
   "cell_type": "code",
   "execution_count": 1,
   "id": "da68bd4f",
   "metadata": {},
   "outputs": [],
   "source": [
    "# Assignment 15 sep\n",
    "# Perform Data preprocessing on Titanic dataset\n",
    "# 1.Data Collection.\n",
    "#    Please download the dataset from \n",
    "#    https://www.kaggle.com/datasets/yasserh/titanic-dataset\n",
    "# 2.Data Preprocessing\n",
    "#     o   Import the Libraries.\n",
    "#     o   Importing the dataset.\n",
    "#     o   Checking for Null Values.\n",
    "#     o   Data Visualization.\n",
    "#     o   Outlier Detection\n",
    "#     o   Splitting Dependent and Independent variables\n",
    "#     o   Perform Encoding\n",
    "#     o   Feature Scaling.\n",
    "#     o   Splitting Data into Train and Test"
   ]
  },
  {
   "cell_type": "markdown",
   "id": "32292a26",
   "metadata": {},
   "source": [
    "## Import Libraries"
   ]
  },
  {
   "cell_type": "code",
   "execution_count": 2,
   "id": "6f6ba6d3",
   "metadata": {},
   "outputs": [],
   "source": [
    "import pandas as pd\n",
    "import numpy as np\n",
    "import matplotlib.pyplot as plt\n",
    "import seaborn as sns\n",
    "from sklearn.model_selection import train_test_split\n",
    "from sklearn.preprocessing import LabelEncoder, StandardScaler"
   ]
  },
  {
   "cell_type": "markdown",
   "id": "3c4178d2",
   "metadata": {},
   "source": [
    "## Import Dataset"
   ]
  },
  {
   "cell_type": "code",
   "execution_count": 3,
   "id": "b2d74251",
   "metadata": {},
   "outputs": [],
   "source": [
    "dataset = pd.read_csv(\"C:/Users/Vaibhav Shrivastava/Desktop/ai ml]/tested.csv\")"
   ]
  },
  {
   "cell_type": "markdown",
   "id": "b26693eb",
   "metadata": {},
   "source": [
    "## Calculating Null values"
   ]
  },
  {
   "cell_type": "code",
   "execution_count": 4,
   "id": "2816c4cb",
   "metadata": {},
   "outputs": [],
   "source": [
    "null_values = dataset.isnull().sum()"
   ]
  },
  {
   "cell_type": "markdown",
   "id": "3769eccc",
   "metadata": {},
   "source": [
    "## Data Visualization"
   ]
  },
  {
   "cell_type": "code",
   "execution_count": 5,
   "id": "a2a35323",
   "metadata": {},
   "outputs": [
    {
     "data": {
      "image/png": "[encoded data removed]",
      "text/plain": [
       "<Figure size 640x480 with 1 Axes>"
      ]
     },
     "metadata": {},
     "output_type": "display_data"
    }
   ],
   "source": [
    "sns.set(style=\"whitegrid\")\n",
    "sns.countplot(x=\"Survived\", data=dataset)\n",
    "plt.show()"
   ]
  },
  {
   "cell_type": "markdown",
   "id": "a6333958",
   "metadata": {},
   "source": [
    "## Outlier Detection"
   ]
  },
  {
   "cell_type": "code",
   "execution_count": 6,
   "id": "d3c88d98",
   "metadata": {},
   "outputs": [
    {
     "name": "stdout",
     "output_type": "stream",
     "text": [
      "Outliers detected using Z-score:\n",
      "     PassengerId  Survived  Pclass  \\\n",
      "24           916         1       1   \n",
      "53           945         1       1   \n",
      "59           951         1       1   \n",
      "64           956         0       1   \n",
      "69           961         1       1   \n",
      "74           966         1       1   \n",
      "75           967         0       1   \n",
      "81           973         0       1   \n",
      "96           988         1       1   \n",
      "114         1006         1       1   \n",
      "142         1034         0       1   \n",
      "156         1048         1       1   \n",
      "184         1076         1       1   \n",
      "202         1094         0       1   \n",
      "218         1110         1       1   \n",
      "324         1216         1       1   \n",
      "343         1235         1       1   \n",
      "375         1267         1       1   \n",
      "407         1299         0       1   \n",
      "\n",
      "                                                  Name     Sex   Age  SibSp  \\\n",
      "24     Ryerson, Mrs. Arthur Larned (Emily Maria Borie)  female  48.0      1   \n",
      "53                          Fortune, Miss. Ethel Flora  female  28.0      3   \n",
      "59                         Chaudanson, Miss. Victorine  female  36.0      0   \n",
      "64                         Ryerson, Master. John Borie    male  13.0      2   \n",
      "69                 Fortune, Mrs. Mark (Mary McDougald)  female  60.0      1   \n",
      "74                                Geiger, Miss. Amalie  female  35.0      0   \n",
      "75                                  Keeping, Mr. Edwin    male  32.5      0   \n",
      "81                                  Straus, Mr. Isidor    male  67.0      1   \n",
      "96   Cavendish, Mrs. Tyrell William (Julia Florence...  female  76.0      1   \n",
      "114             Straus, Mrs. Isidor (Rosalie Ida Blun)  female  63.0      1   \n",
      "142                         Ryerson, Mr. Arthur Larned    male  61.0      1   \n",
      "156                                  Bird, Miss. Ellen  female  29.0      0   \n",
      "184  Douglas, Mrs. Frederick Charles (Mary Helene B...  female  27.0      1   \n",
      "202                             Astor, Col. John Jacob    male  47.0      1   \n",
      "218       Widener, Mrs. George Dunton (Eleanor Elkins)  female  50.0      1   \n",
      "324                             Kreuchen, Miss. Emilie  female  39.0      0   \n",
      "343  Cardeza, Mrs. James Warburton Martinez (Charlo...  female  58.0      0   \n",
      "375                           Bowen, Miss. Grace Scott  female  45.0      0   \n",
      "407                         Widener, Mr. George Dunton    male  50.0      1   \n",
      "\n",
      "     Parch    Ticket      Fare            Cabin Embarked  \n",
      "24       3  PC 17608  262.3750  B57 B59 B63 B66        C  \n",
      "53       2     19950  263.0000      C23 C25 C27        S  \n",
      "59       0  PC 17608  262.3750              B61        C  \n",
      "64       2  PC 17608  262.3750  B57 B59 B63 B66        C  \n",
      "69       4     19950  263.0000      C23 C25 C27        S  \n",
      "74       0    113503  211.5000             C130        C  \n",
      "75       0    113503  211.5000             C132        C  \n",
      "81       0  PC 17483  221.7792          C55 C57        S  \n",
      "96       0     19877   78.8500              C46        S  \n",
      "114      0  PC 17483  221.7792          C55 C57        S  \n",
      "142      3  PC 17608  262.3750  B57 B59 B63 B66        C  \n",
      "156      0  PC 17483  221.7792              C97        S  \n",
      "184      1  PC 17558  247.5208          B58 B60        C  \n",
      "202      0  PC 17757  227.5250          C62 C64        C  \n",
      "218      1    113503  211.5000              C80        C  \n",
      "324      0     24160  211.3375              NaN        S  \n",
      "343      1  PC 17755  512.3292      B51 B53 B55        C  \n",
      "375      0  PC 17608  262.3750              NaN        C  \n",
      "407      1    113503  211.5000              C80        C  \n"
     ]
    }
   ],
   "source": [
    "numerical_columns = ['Age', 'Fare']\n",
    "z_scores = np.abs((dataset[numerical_columns] - dataset[numerical_columns].mean()) / dataset[numerical_columns].std())\n",
    "threshold = 3\n",
    "outlier_mask = z_scores > threshold\n",
    "outliers = dataset[outlier_mask.any(axis=1)]\n",
    "print(\"Outliers detected using Z-score:\")\n",
    "print(outliers)"
   ]
  },
  {
   "cell_type": "markdown",
   "id": "e21fcce7",
   "metadata": {},
   "source": [
    "## Splitting Dependent and Independent Variables"
   ]
  },
  {
   "cell_type": "code",
   "execution_count": 8,
   "id": "2e4ff62b",
   "metadata": {},
   "outputs": [],
   "source": [
    "X = dataset.drop(\"Survived\", axis=1)\n",
    "y = dataset[\"Survived\"]"
   ]
  },
  {
   "cell_type": "markdown",
   "id": "1f070560",
   "metadata": {},
   "source": [
    "# Exclude non numeric columns from X"
   ]
  },
  {
   "cell_type": "code",
   "execution_count": 9,
   "id": "a6e23e82",
   "metadata": {},
   "outputs": [],
   "source": [
    "X_numeric = X.select_dtypes(include=[np.number])"
   ]
  },
  {
   "cell_type": "markdown",
   "id": "f783cd41",
   "metadata": {},
   "source": [
    "# Perform Encoding (Example: Label Encoding for Sex column)"
   ]
  },
  {
   "cell_type": "code",
   "execution_count": 10,
   "id": "88a85fc8",
   "metadata": {},
   "outputs": [],
   "source": [
    "label_encoder = LabelEncoder()\n",
    "X[\"Sex\"] = label_encoder.fit_transform(X[\"Sex\"])"
   ]
  },
  {
   "cell_type": "markdown",
   "id": "10388e12",
   "metadata": {},
   "source": [
    "# Feature Scaling (Example: Standardization)"
   ]
  },
  {
   "cell_type": "code",
   "execution_count": 11,
   "id": "c0ac2f19",
   "metadata": {},
   "outputs": [],
   "source": [
    "scaler = StandardScaler()\n",
    "X_scaled = scaler.fit_transform(X_numeric)"
   ]
  },
  {
   "cell_type": "markdown",
   "id": "a2d92053",
   "metadata": {},
   "source": [
    "# Splitting Data into Train and Test"
   ]
  },
  {
   "cell_type": "code",
   "execution_count": 12,
   "id": "c976d150",
   "metadata": {},
   "outputs": [
    {
     "name": "stdout",
     "output_type": "stream",
     "text": [
      "Number of samples in the test dataset: 84\n",
      "Basic statistics of the test dataset:\n",
      "Mean: [ 0.00621551 -0.01849392         nan -0.10073345 -0.04805529 -0.09100926]\n",
      "Standard Deviation: [1.14631322 0.98611637        nan 0.74383342 1.16201349 0.82575941]\n",
      "Minimum: [-1.72791209 -1.50512029         nan -0.49947002 -0.4002477  -0.50863062]\n",
      "Maximum: [1.71962474 0.87348191        nan 3.96637954 8.78104409 4.06063358]\n"
     ]
    },
    {
     "data": {
      "image/png": "[encoded data removed]",
      "text/plain": [
       "<Figure size 640x480 with 1 Axes>"
      ]
     },
     "metadata": {},
     "output_type": "display_data"
    }
   ],
   "source": [
    "X_train, X_test, y_train, y_test = train_test_split(X_scaled, y, test_size=0.2, random_state=42)\n",
    "print(\"Number of samples in the test dataset:\", len(X_test))\n",
    "print(\"Basic statistics of the test dataset:\")\n",
    "print(\"Mean:\", np.mean(X_test, axis=0))\n",
    "print(\"Standard Deviation:\", np.std(X_test, axis=0))\n",
    "print(\"Minimum:\", np.min(X_test, axis=0))\n",
    "print(\"Maximum:\", np.max(X_test, axis=0))\n",
    "sns.countplot(x=y_test)\n",
    "plt.title(\"Distribution of Survived (Target) in the Test Dataset\")\n",
    "plt.show()"
   ]
  },
  {
   "cell_type": "code",
   "execution_count": null,
   "id": "d0498285",
   "metadata": {},
   "outputs": [],
   "source": []
  }
 ],
 "metadata": {
  "kernelspec": {
   "display_name": "Python 3 (ipykernel)",
   "language": "python",
   "name": "python3"
  },
  "language_info": {
   "codemirror_mode": {
    "name": "ipython",
    "version": 3
   },
   "file_extension": ".py",
   "mimetype": "text/x-python",
   "name": "python",
   "nbconvert_exporter": "python",
   "pygments_lexer": "ipython3",
   "version": "3.9.13"
  }
 },
 "nbformat": 4,
 "nbformat_minor": 5
}
